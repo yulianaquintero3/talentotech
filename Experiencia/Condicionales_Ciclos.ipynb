{
  "nbformat": 4,
  "nbformat_minor": 0,
  "metadata": {
    "colab": {
      "provenance": []
    },
    "kernelspec": {
      "name": "python3",
      "display_name": "Python 3"
    },
    "language_info": {
      "name": "python"
    }
  },
  "cells": [
    {
      "cell_type": "code",
      "execution_count": null,
      "metadata": {
        "colab": {
          "base_uri": "https://localhost:8080/"
        },
        "id": "xV0JOKGSqx-f",
        "outputId": "efd405db-1397-476f-a760-54b8dd0949fd"
      },
      "outputs": [
        {
          "output_type": "stream",
          "name": "stdout",
          "text": [
            "5\n",
            "4\n",
            "3\n",
            "2\n",
            "1\n"
          ]
        }
      ],
      "source": [
        "n = 5\n",
        "while n > 0:\n",
        "    print(n)\n",
        "    n -= 1"
      ]
    },
    {
      "cell_type": "code",
      "source": [
        "numero = 2\n",
        "while numero <= 10:\n",
        "    print(numero)\n",
        "    numero += 2"
      ],
      "metadata": {
        "colab": {
          "base_uri": "https://localhost:8080/"
        },
        "id": "5zjCXWVRsNXb",
        "outputId": "6d106a2a-fec8-4f85-d466-29c715310ca2"
      },
      "execution_count": null,
      "outputs": [
        {
          "output_type": "stream",
          "name": "stdout",
          "text": [
            "2\n",
            "4\n",
            "6\n",
            "8\n",
            "10\n"
          ]
        }
      ]
    },
    {
      "cell_type": "code",
      "source": [
        "n = 1\n",
        "suma = 0\n",
        "\n",
        "while n <= 5:\n",
        "    suma += n\n",
        "    n += 1\n",
        "\n",
        "print(\"La suma de los primeros 5 números es:\", suma)"
      ],
      "metadata": {
        "colab": {
          "base_uri": "https://localhost:8080/"
        },
        "id": "a5FJgpOCscQR",
        "outputId": "b1483b52-ab2e-47e7-c52f-014b46fbf5ac"
      },
      "execution_count": null,
      "outputs": [
        {
          "output_type": "stream",
          "name": "stdout",
          "text": [
            "La suma de los primeros 5 números es: 15\n"
          ]
        }
      ]
    },
    {
      "cell_type": "code",
      "source": [
        "contador = 0\n",
        "\n",
        "while contador < 5:\n",
        "    print(\"⭐\")\n",
        "    contador += 1"
      ],
      "metadata": {
        "colab": {
          "base_uri": "https://localhost:8080/"
        },
        "id": "89xuWkFNtTLQ",
        "outputId": "950bba13-2a92-4ea4-c9c7-cc47db8423e0"
      },
      "execution_count": null,
      "outputs": [
        {
          "output_type": "stream",
          "name": "stdout",
          "text": [
            "⭐\n",
            "⭐\n",
            "⭐\n",
            "⭐\n",
            "⭐\n"
          ]
        }
      ]
    },
    {
      "cell_type": "code",
      "source": [
        "lista_frutas=[\"manzana\",\"pera\",\"banano\",\"fresa\"]\n",
        "for x in lista_frutas:\n",
        "  print(x)\n"
      ],
      "metadata": {
        "colab": {
          "base_uri": "https://localhost:8080/"
        },
        "id": "OTqMnhzDtqht",
        "outputId": "a5866f07-1283-4632-8dff-8e67787e682c"
      },
      "execution_count": null,
      "outputs": [
        {
          "output_type": "stream",
          "name": "stdout",
          "text": [
            "manzana\n",
            "pera\n",
            "banano\n",
            "fresa\n"
          ]
        }
      ]
    },
    {
      "cell_type": "code",
      "source": [
        "tupla_colores = (\"azul\", \"amarillo\", \"blanco\", \"rojo\", \"verde\")\n",
        "for x in tupla_colores:\n",
        "  print(x)\n"
      ],
      "metadata": {
        "colab": {
          "base_uri": "https://localhost:8080/"
        },
        "id": "pdOvxGtet0Dq",
        "outputId": "eacbf5c9-5a60-4482-868f-601d9f555390"
      },
      "execution_count": null,
      "outputs": [
        {
          "output_type": "stream",
          "name": "stdout",
          "text": [
            "azul\n",
            "amarillo\n",
            "blanco\n",
            "rojo\n",
            "verde\n"
          ]
        }
      ]
    },
    {
      "cell_type": "code",
      "source": [
        "conjunto_numeros = {\"1\",\"2\",\"3\",\"4\",\"5\",\"6\",\"7\",\"8\",\"8\"}\n",
        "for x in conjunto_numeros:\n",
        "  print(x)"
      ],
      "metadata": {
        "colab": {
          "base_uri": "https://localhost:8080/"
        },
        "id": "iX4k7BAYt4ab",
        "outputId": "55c28aa5-08e7-459e-b893-3fdb5991ab23"
      },
      "execution_count": null,
      "outputs": [
        {
          "output_type": "stream",
          "name": "stdout",
          "text": [
            "8\n",
            "5\n",
            "3\n",
            "7\n",
            "6\n",
            "2\n",
            "4\n",
            "1\n"
          ]
        }
      ]
    },
    {
      "cell_type": "code",
      "source": [
        "d={\"piña\":\"fruta\",\"cafe\":\"color\",\"mazda\":\"marca\",\"Colombia\":\"pais\",\"Bogotá\":\"ciudad\"}\n",
        "for x in d:\n",
        "  print(x)"
      ],
      "metadata": {
        "colab": {
          "base_uri": "https://localhost:8080/"
        },
        "id": "2BbofaZNt6A2",
        "outputId": "32c977e8-e965-4822-ad5e-adafbcfc2a9b"
      },
      "execution_count": null,
      "outputs": [
        {
          "output_type": "stream",
          "name": "stdout",
          "text": [
            "piña\n",
            "cafe\n",
            "mazda\n",
            "Colombia\n",
            "Bogotá\n"
          ]
        }
      ]
    },
    {
      "cell_type": "code",
      "source": [
        "digits=range(10)\n",
        "for digit in digits:\n",
        "  print(digit)\n",
        "print(\"Se mostraron en pantalla los digitos del 0 al 9\")\n"
      ],
      "metadata": {
        "colab": {
          "base_uri": "https://localhost:8080/"
        },
        "id": "YyZ-FjBOuugD",
        "outputId": "afc49206-3f29-4ef0-9e5a-ffa0037c9a94"
      },
      "execution_count": null,
      "outputs": [
        {
          "output_type": "stream",
          "name": "stdout",
          "text": [
            "0\n",
            "1\n",
            "2\n",
            "3\n",
            "4\n",
            "5\n",
            "6\n",
            "7\n",
            "8\n",
            "9\n",
            "Se mostraron en pantalla los digitos del 0 al 9\n"
          ]
        }
      ]
    },
    {
      "cell_type": "code",
      "source": [
        "#cadenas\n",
        "digits0=\"0123456789\"\n",
        "for digit in digits0:\n",
        "  print(digit)\n",
        "print(\"Longitud, máximo, mínimo:\")\n",
        "print(len(digits0))\n",
        "print(max(digits0))\n",
        "print(min(digits0))\n",
        "tamano=len(digits0)\n",
        "promedio=suma/tamano\n",
        "print(\"El promedio es:\")\n",
        "print(promedio)"
      ],
      "metadata": {
        "colab": {
          "base_uri": "https://localhost:8080/"
        },
        "id": "7njEUNIcCaE_",
        "outputId": "f6d291e2-1618-4a0e-dbd9-2128f3fe8573"
      },
      "execution_count": null,
      "outputs": [
        {
          "output_type": "stream",
          "name": "stdout",
          "text": [
            "0\n",
            "1\n",
            "2\n",
            "3\n",
            "4\n",
            "5\n",
            "6\n",
            "7\n",
            "8\n",
            "9\n",
            "Longitud, máximo, mínimo:\n",
            "10\n",
            "9\n",
            "0\n",
            "El promedio es:\n",
            "4.5\n"
          ]
        }
      ]
    },
    {
      "cell_type": "code",
      "source": [
        "#listas\n",
        "digits=[0,1,2,3,4,5,6,7,8,9]\n",
        "for digit in digits:\n",
        "  print(digit)\n",
        "print(\"Longitud, máximo, mínimo, suma:\")\n",
        "print(len(digits))\n",
        "print(max(digits))\n",
        "print(min(digits))\n",
        "print(sum(digits))\n",
        "tamano=len(digits)\n",
        "suma=sum(digits)\n",
        "promedio=suma/tamano\n",
        "print(\"El promedio es:\")\n",
        "print(promedio)"
      ],
      "metadata": {
        "colab": {
          "base_uri": "https://localhost:8080/"
        },
        "id": "Ahgg84xFDATj",
        "outputId": "ed8d4742-757c-479d-bb92-d510e269e15a"
      },
      "execution_count": null,
      "outputs": [
        {
          "output_type": "stream",
          "name": "stdout",
          "text": [
            "0\n",
            "1\n",
            "2\n",
            "3\n",
            "4\n",
            "5\n",
            "6\n",
            "7\n",
            "8\n",
            "9\n",
            "Longitud, máximo, mínimo, suma:\n",
            "10\n",
            "9\n",
            "0\n",
            "45\n",
            "El promedio es:\n",
            "4.5\n"
          ]
        }
      ]
    },
    {
      "cell_type": "code",
      "source": [
        "#tupla\n",
        "digits=(0,1,2,3,4,5,6,7,8,9)\n",
        "for digit in digits:\n",
        "  print(digit)\n",
        "print(\"Longitud, máximo, mínimo, suma:\")\n",
        "print(len(digits))\n",
        "print(max(digits))\n",
        "print(min(digits))\n",
        "print(sum(digits))\n",
        "tamano=len(digits)\n",
        "suma=sum(digits)\n",
        "promedio=suma/tamano\n",
        "print(\"El promedio es:\")\n",
        "print(promedio)"
      ],
      "metadata": {
        "colab": {
          "base_uri": "https://localhost:8080/"
        },
        "id": "hKu9sq2sDKzz",
        "outputId": "46f8dca8-7f57-421f-ad38-2c340975f609"
      },
      "execution_count": null,
      "outputs": [
        {
          "output_type": "stream",
          "name": "stdout",
          "text": [
            "0\n",
            "1\n",
            "2\n",
            "3\n",
            "4\n",
            "5\n",
            "6\n",
            "7\n",
            "8\n",
            "9\n",
            "Longitud, máximo, mínimo, suma:\n",
            "10\n",
            "9\n",
            "0\n",
            "45\n",
            "El promedio es:\n",
            "4.5\n"
          ]
        }
      ]
    },
    {
      "cell_type": "code",
      "source": [
        "nombres=['Juan0','Juan1','Juan2','Juan3','Juan4','Juan5','Juan6','Juan7','Juan8','Juan9']\n",
        "for nombre in nombres:\n",
        "  print(nombre)"
      ],
      "metadata": {
        "colab": {
          "base_uri": "https://localhost:8080/"
        },
        "id": "wy2ScEn_Dlka",
        "outputId": "d6e3efbc-a6c1-470b-b82e-1c9c1527973a"
      },
      "execution_count": null,
      "outputs": [
        {
          "output_type": "stream",
          "name": "stdout",
          "text": [
            "Juan0\n",
            "Juan1\n",
            "Juan2\n",
            "Juan3\n",
            "Juan4\n",
            "Juan5\n",
            "Juan6\n",
            "Juan7\n",
            "Juan8\n",
            "Juan9\n"
          ]
        }
      ]
    },
    {
      "cell_type": "code",
      "source": [
        "digits={0,1,2,3,4,5,6,7,8,9}\n",
        "for digit in digits:\n",
        "  print(digit)\n",
        "print(\"Longitud, máximo, mínimo, suma:\")\n",
        "print(len(digits))\n",
        "print(max(digits))\n",
        "print(min(digits))\n",
        "print(sum(digits))\n",
        "tamano=len(digits)\n",
        "suma=sum(digits)\n",
        "promedio=suma/tamano\n",
        "print(\"El promedio es:\")\n",
        "print(promedio)"
      ],
      "metadata": {
        "colab": {
          "base_uri": "https://localhost:8080/"
        },
        "id": "m6R4RQvqDpa2",
        "outputId": "cc8e8027-b315-4dda-c7df-4ed5264a8b3f"
      },
      "execution_count": null,
      "outputs": [
        {
          "output_type": "stream",
          "name": "stdout",
          "text": [
            "0\n",
            "1\n",
            "2\n",
            "3\n",
            "4\n",
            "5\n",
            "6\n",
            "7\n",
            "8\n",
            "9\n",
            "Longitud, máximo, mínimo, suma:\n",
            "10\n",
            "9\n",
            "0\n",
            "45\n",
            "El promedio es:\n",
            "4.5\n"
          ]
        }
      ]
    },
    {
      "cell_type": "code",
      "source": [
        "digits1={0:\"Juan0\",1:\"Juan1\",2:\"Juan2\",3:\"Juan3\",4:\"Juan4\",5:\"Juan5\",6:\"Juan6\",7:\"Juan7\",8:\"Juan8\",9:\"Juan9\"}\n",
        "for digit in digits1:\n",
        "  print(digit)\n",
        "  print()\n",
        "  print(digits1[digit])\n",
        "  print()\n",
        "  print()\n",
        "\n",
        "print(\"Longitud, máximo, mínimo, suma:\")\n",
        "print(len(digits1))\n",
        "print(max(digits1))\n",
        "print(min(digits1))\n",
        "print(sum(digits1))\n",
        "tamano=len(digits1)\n",
        "suma=sum(digits1)\n",
        "promedio=suma/tamano\n",
        "print(\"El promedio es:\")\n",
        "print(promedio)"
      ],
      "metadata": {
        "colab": {
          "base_uri": "https://localhost:8080/"
        },
        "id": "0JuDJ_ycD_om",
        "outputId": "a9fd442b-7063-48ca-9000-6fd3f34f9da1"
      },
      "execution_count": null,
      "outputs": [
        {
          "output_type": "stream",
          "name": "stdout",
          "text": [
            "0\n",
            "\n",
            "Juan0\n",
            "\n",
            "\n",
            "1\n",
            "\n",
            "Juan1\n",
            "\n",
            "\n",
            "2\n",
            "\n",
            "Juan2\n",
            "\n",
            "\n",
            "3\n",
            "\n",
            "Juan3\n",
            "\n",
            "\n",
            "4\n",
            "\n",
            "Juan4\n",
            "\n",
            "\n",
            "5\n",
            "\n",
            "Juan5\n",
            "\n",
            "\n",
            "6\n",
            "\n",
            "Juan6\n",
            "\n",
            "\n",
            "7\n",
            "\n",
            "Juan7\n",
            "\n",
            "\n",
            "8\n",
            "\n",
            "Juan8\n",
            "\n",
            "\n",
            "9\n",
            "\n",
            "Juan9\n",
            "\n",
            "\n",
            "Longitud, máximo, mínimo, suma:\n",
            "10\n",
            "9\n",
            "0\n",
            "45\n",
            "El promedio es:\n",
            "4.5\n"
          ]
        }
      ]
    },
    {
      "cell_type": "code",
      "source": [
        "#almacena el actual número mas grande\n",
        "largest_number = -999999999\n",
        "\n",
        "#ingrese el primer valor\n",
        "number = int(input(\"Ingresa un número o escribe -1 para finalizar el programa: \"))\n",
        "\n",
        "#si el número no es igual a -1, continuaremos\n",
        "while number != -1:\n",
        "    #¿es el número  más grande que el valor delargest_number?\n",
        "    if number > largest_number:\n",
        "        #si sí, se actualiza largest_number\n",
        "        largest_number = number\n",
        "    #ingresa el siguiente número\n",
        "    number = int(input(\"Introduce un número o escribe -1 para detener: \"))\n",
        "\n",
        "#imprime el número mas grande\n",
        "print(\"El número más grande es:\", largest_number)"
      ],
      "metadata": {
        "colab": {
          "base_uri": "https://localhost:8080/"
        },
        "id": "tCD8CYkGENpt",
        "outputId": "24a4a8a0-a1d2-45c7-9eee-182d9b15ec1b"
      },
      "execution_count": null,
      "outputs": [
        {
          "output_type": "stream",
          "name": "stdout",
          "text": [
            "Ingresa un número o escribe -1 para finalizar el programa: 34\n",
            "Introduce un número o escribe -1 para detener: 54\n",
            "Introduce un número o escribe -1 para detener: 655\n",
            "Introduce un número o escribe -1 para detener: 655\n",
            "Introduce un número o escribe -1 para detener: 334\n",
            "Introduce un número o escribe -1 para detener: -1\n",
            "El número más grande es: 655\n"
          ]
        }
      ]
    },
    {
      "cell_type": "code",
      "source": [
        "want_greet= 'S'\n",
        "valid_options=0\n",
        "while want_greet == 'S':\n",
        "  print('Hola qué tal!')\n",
        "  want_greet = input('Quiere otro saludo? [S/N] ')\n",
        "  if want_greet not in 'SN':\n",
        "    print('No le he entendido el saludo')\n",
        "    want_greet='S'\n",
        "    continue\n",
        "  valid_options +=1\n",
        "print(f' {valid_options} respuestas válidas')\n",
        "print('Que tenga buen día')"
      ],
      "metadata": {
        "colab": {
          "base_uri": "https://localhost:8080/"
        },
        "id": "D_5reXtyFJm3",
        "outputId": "823766d6-fe93-4154-ae06-8bd25a4f6f4a"
      },
      "execution_count": null,
      "outputs": [
        {
          "output_type": "stream",
          "name": "stdout",
          "text": [
            "Hola qué tal!\n",
            "Quiere otro saludo? [S/N] S\n",
            "Hola qué tal!\n",
            "Quiere otro saludo? [S/N] O\n",
            "No le he entendido el saludo\n",
            "Hola qué tal!\n",
            "Quiere otro saludo? [S/N] S\n",
            "Hola qué tal!\n",
            "Quiere otro saludo? [S/N] N\n",
            " 3 respuestas válidas\n",
            "Que tenga buen día\n"
          ]
        }
      ]
    }
  ]
}