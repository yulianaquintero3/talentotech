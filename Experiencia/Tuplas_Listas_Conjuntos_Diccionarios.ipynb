{
  "nbformat": 4,
  "nbformat_minor": 0,
  "metadata": {
    "colab": {
      "provenance": []
    },
    "kernelspec": {
      "name": "python3",
      "display_name": "Python 3"
    },
    "language_info": {
      "name": "python"
    }
  },
  "cells": [
    {
      "cell_type": "code",
      "execution_count": null,
      "metadata": {
        "colab": {
          "base_uri": "https://localhost:8080/"
        },
        "id": "WrV4U2ciQnsr",
        "outputId": "cff8c391-c692-42f7-c5de-97d8cd2af60b"
      },
      "outputs": [
        {
          "output_type": "stream",
          "name": "stdout",
          "text": [
            "['a', 'e', 'i', 'o', 'u']\n",
            "('a', 'e', 'i', 'o', 'u')\n",
            "{'u', 'a', 'i', 'e', 'o'}\n",
            "{'acero': 'material', 'elefante': 'animal', 'iglesia': 'recinto', 'oscar': 'premio', 'utopía': 'difícil de alcanzar'}\n"
          ]
        }
      ],
      "source": [
        "lista_vocales=[\"a\", \"e\",   \"i\", \"o\",\"u\"] # lista\n",
        "print(lista_vocales)\n",
        "\n",
        "tupla_vocales = (\"a\", \"e\", \"i\", \"o\", \"u\") # tupla\n",
        "print(tupla_vocales)\n",
        "\n",
        "conjunto_vocales = {\"a\",\"e\",\"i\",\"o\",\"u\"} # conjunto (elementos únicos: : no importa el órden)\n",
        "print(conjunto_vocales)\n",
        "\n",
        "#diccionario:\n",
        "d={\"acero\":\"material\",\"elefante\":\"animal\",\"iglesia\":\"recinto\",\"oscar\":\"premio\",\"utopía\":\"difícil de alcanzar\"}\n",
        "\n",
        "#\"\"\"\n",
        "#d = {\n",
        "#   \"acero\"    :  \"material\"                ,\n",
        "#   \"elefante\" :  \"animal\"                  ,\n",
        "#   \"iglesia\"  :  \"recinto\"                 ,\n",
        "#   \"oscar\"    :  \"premio\"                  ,\n",
        "#   \"utopía\"   :  \"difícil de alcanzar\" }\n",
        "#\"\"\"\n",
        "print(d)\n"
      ]
    },
    {
      "cell_type": "code",
      "source": [],
      "metadata": {
        "id": "_iA17s4OU4kU"
      },
      "execution_count": null,
      "outputs": []
    },
    {
      "cell_type": "code",
      "source": [
        "lista_frutas=[\"manzana\",\"pera\",\"banano\",\"fresa\"]\n",
        "print(lista_frutas)\n",
        "\n",
        "tupla_colores = (\"azul\", \"amarillo\", \"blanco\", \"rojo\", \"verde\")\n",
        "print(tupla_colores)\n",
        "\n",
        "conjunto_numeros = {\"1\",\"2\",\"3\",\"4\",\"5\",\"6\",\"7\",\"8\",\"8\"}\n",
        "print(conjunto_numeros)\n",
        "\n",
        "d={\"piña\":\"fruta\",\"cafe\":\"color\",\"mazda\":\"marca\",\"Colombia\":\"pais\",\"Bogotá\":\"ciudad\"}\n",
        "\n",
        "print(d)"
      ],
      "metadata": {
        "colab": {
          "base_uri": "https://localhost:8080/"
        },
        "id": "7-aYas4wRb1z",
        "outputId": "70f121a5-9aa3-4c17-da19-9e3f9e98579d"
      },
      "execution_count": null,
      "outputs": [
        {
          "output_type": "stream",
          "name": "stdout",
          "text": [
            "['manzana', 'pera', 'banano', 'fresa']\n",
            "('azul', 'amarillo', 'blanco', 'rojo', 'verde')\n",
            "{'8', '4', '1', '2', '7', '3', '6', '5'}\n",
            "{'piña': 'fruta', 'cafe': 'color', 'mazda': 'marca', 'Colombia': 'pais', 'Bogotá': 'ciudad'}\n"
          ]
        }
      ]
    },
    {
      "cell_type": "code",
      "source": [
        "d['Bogotá']"
      ],
      "metadata": {
        "colab": {
          "base_uri": "https://localhost:8080/",
          "height": 35
        },
        "id": "H0w5jdEvaLt9",
        "outputId": "29e4fee2-7ff6-4db2-b29f-b802311f4cc4"
      },
      "execution_count": null,
      "outputs": [
        {
          "output_type": "execute_result",
          "data": {
            "text/plain": [
              "'ciudad'"
            ],
            "application/vnd.google.colaboratory.intrinsic+json": {
              "type": "string"
            }
          },
          "metadata": {},
          "execution_count": 12
        }
      ]
    },
    {
      "cell_type": "code",
      "source": [
        "d['Bogotá']=\"capital\""
      ],
      "metadata": {
        "id": "tT8Q6cF7al70"
      },
      "execution_count": null,
      "outputs": []
    },
    {
      "cell_type": "code",
      "source": [
        "d"
      ],
      "metadata": {
        "colab": {
          "base_uri": "https://localhost:8080/"
        },
        "id": "WwFcyTTXav-3",
        "outputId": "6e37fe46-e325-493b-a0e8-4fbc8763f2c5"
      },
      "execution_count": null,
      "outputs": [
        {
          "output_type": "execute_result",
          "data": {
            "text/plain": [
              "{'piña': 'fruta',\n",
              " 'cafe': 'color',\n",
              " 'mazda': 'marca',\n",
              " 'Colombia': 'pais',\n",
              " 'Bogotá': 'capital'}"
            ]
          },
          "metadata": {},
          "execution_count": 14
        }
      ]
    },
    {
      "cell_type": "code",
      "source": [
        "print(d)"
      ],
      "metadata": {
        "id": "sgD2WJoka8H2",
        "outputId": "9d56d113-4798-4333-e62e-6e4a65ba69ce",
        "colab": {
          "base_uri": "https://localhost:8080/"
        }
      },
      "execution_count": null,
      "outputs": [
        {
          "output_type": "stream",
          "name": "stdout",
          "text": [
            "{'piña': 'fruta', 'cafe': 'color', 'mazda': 'marca', 'Colombia': 'pais', 'Bogotá': 'capital'}\n"
          ]
        }
      ]
    }
  ]
}