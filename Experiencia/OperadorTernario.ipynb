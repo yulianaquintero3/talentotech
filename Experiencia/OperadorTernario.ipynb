{
  "nbformat": 4,
  "nbformat_minor": 0,
  "metadata": {
    "colab": {
      "provenance": []
    },
    "kernelspec": {
      "name": "python3",
      "display_name": "Python 3"
    },
    "language_info": {
      "name": "python"
    }
  },
  "cells": [
    {
      "cell_type": "code",
      "execution_count": null,
      "metadata": {
        "colab": {
          "base_uri": "https://localhost:8080/"
        },
        "id": "bSUOe5zz4eHH",
        "outputId": "53c7d1d8-745c-47a9-e29e-608966baed76"
      },
      "outputs": [
        {
          "output_type": "stream",
          "name": "stdout",
          "text": [
            "Cuánto es 1 + 1?: 2\n",
            "Su respuesta es: Verdadera\n"
          ]
        }
      ],
      "source": [
        "pregunta = input(\"Cuánto es 1 + 1?: \")\n",
        "respuesta = True if pregunta == \"2\" else False\n",
        "respuesta_espanol = \"Verdadera\" if respuesta == True else \"Falsa\"\n",
        "print(f\"Su respuesta es: {respuesta_espanol}\")"
      ]
    },
    {
      "cell_type": "code",
      "source": [
        "pregunta = input(\"Cuál es la capital de Colombia (NO USAR TILDES)? : \")\n",
        "respuesta = True if pregunta.lower() == \"bogota\" else False\n",
        "respuesta_espanol = \"Verdadera\" if respuesta == True else \"Falsa\"\n",
        "print(f\"Su respuesta es: {respuesta_espanol}\")"
      ],
      "metadata": {
        "colab": {
          "base_uri": "https://localhost:8080/"
        },
        "id": "jaJk_-VZ5fd4",
        "outputId": "6181e22d-04ab-4840-8dee-428c48aeb91a"
      },
      "execution_count": null,
      "outputs": [
        {
          "output_type": "stream",
          "name": "stdout",
          "text": [
            "Cuál es la capital de Colombia (NO USAR TILDES)? : Bogota\n",
            "Su respuesta es: Verdadera\n"
          ]
        }
      ]
    },
    {
      "cell_type": "code",
      "source": [
        "pregunta = input(\"Cuál color se genera de mezclar Amarillo y Azul? : \")\n",
        "respuesta = True if pregunta.lower() == \"verde\" else False\n",
        "respuesta_espanol = \"Verdadera\" if respuesta == True else \"Falsa\"\n",
        "print(f\"Su respuesta es: {respuesta_espanol}\")"
      ],
      "metadata": {
        "colab": {
          "base_uri": "https://localhost:8080/"
        },
        "id": "eh_9ewxr51IR",
        "outputId": "335b85d1-d25e-4a94-c581-0399259d2ea6"
      },
      "execution_count": null,
      "outputs": [
        {
          "output_type": "stream",
          "name": "stdout",
          "text": [
            "Cuál color se genera de mezclar Amarillo y Azul? : Rojo\n",
            "Su respuesta es: Falsa\n"
          ]
        }
      ]
    },
    {
      "cell_type": "code",
      "source": [
        "pregunta = input(\"Qué día es hoy? : \")\n",
        "respuesta = True if pregunta.lower() == \"martes\" else False\n",
        "respuesta_espanol = \"Verdadera\" if respuesta == True else \"Falsa\"\n",
        "print(f\"Su respuesta es: {respuesta_espanol}\")"
      ],
      "metadata": {
        "colab": {
          "base_uri": "https://localhost:8080/"
        },
        "id": "z5zD51k86ber",
        "outputId": "d35c1bc2-2c0c-4deb-b38d-cd87b3c124cb"
      },
      "execution_count": null,
      "outputs": [
        {
          "output_type": "stream",
          "name": "stdout",
          "text": [
            "Qué día es hoy? : Lunes\n",
            "Su respuesta es: Falsa\n"
          ]
        }
      ]
    },
    {
      "cell_type": "code",
      "source": [
        "pregunta = input(\"Cuál es el país mas grande del mundo? : \")\n",
        "respuesta = True if pregunta.lower() == \"rusia\" else False\n",
        "respuesta_espanol = \"Verdadera\" if respuesta == True else \"Falsa\"\n",
        "print(f\"Su respuesta es: {respuesta_espanol}\")"
      ],
      "metadata": {
        "colab": {
          "base_uri": "https://localhost:8080/"
        },
        "id": "g32UjiP961Oj",
        "outputId": "a9e4cddf-d2aa-4cec-cbaa-98c0928b99a1"
      },
      "execution_count": null,
      "outputs": [
        {
          "output_type": "stream",
          "name": "stdout",
          "text": [
            "Cuál es el país mas grande del mundo? : Rusia\n",
            "Su respuesta es: Verdadera\n"
          ]
        }
      ]
    },
    {
      "cell_type": "code",
      "source": [
        "peso = float(input(\"Ingrese su peso en kilogramos: \"))\n",
        "estatura = float(input(\"Ingrese su estatura en metros: \"))\n",
        "\n",
        "imc = peso / (estatura ** 2)\n",
        "\n",
        "clasificacion = (\n",
        "    \"Bajo de peso\" if imc < 18.5  else\n",
        "    \"Peso normal\" if 18.5 < imc < 25 else\n",
        "    \"Sobrepeso\" if 25 < imc < 30 else\n",
        "    \"Obesidad tipo I\" if 30 < imc < 35 else\n",
        "    \"Obesidad tipo II\" if 35 < imc < 40 else\n",
        "    \"Obesidad tipo III - Mórbida\" if 40 < imc < 50 else\n",
        "    \"Obesidad tipo IV - Extrema\"\n",
        ")\n",
        "\n",
        "print(f\"Su IMC es: {imc:.3f}\")\n",
        "print(f\"Clasificación: {clasificacion}\")"
      ],
      "metadata": {
        "colab": {
          "base_uri": "https://localhost:8080/"
        },
        "id": "KFeze5qnHIDD",
        "outputId": "e522805c-c98c-4c82-b428-a92b0a95b046"
      },
      "execution_count": null,
      "outputs": [
        {
          "output_type": "stream",
          "name": "stdout",
          "text": [
            "Ingrese su peso en kilogramos: 69.5\n",
            "Ingrese su estatura en metros: 1.63\n",
            "Su IMC es: 26.158\n",
            "Clasificación: Sobrepeso\n"
          ]
        }
      ]
    },
    {
      "cell_type": "code",
      "source": [
        "año = int(input(\"Ingrese un año posterior a 1582: \"))\n",
        "\n",
        "mensaje = (\n",
        "    \"Año inválido.\"\n",
        "    if año < 1582 else\n",
        "    \"Es bisiesto.\" if (año % 4 == 0 and (año % 100 != 0 or año % 400 == 0)) else\n",
        "    \"No es bisiesto.\"\n",
        ")\n",
        "\n",
        "print(mensaje)"
      ],
      "metadata": {
        "colab": {
          "base_uri": "https://localhost:8080/"
        },
        "id": "rL9Lca-TJBpV",
        "outputId": "22df8b39-78d5-4f94-d920-c6cc19a242fb"
      },
      "execution_count": null,
      "outputs": [
        {
          "output_type": "stream",
          "name": "stdout",
          "text": [
            "Ingrese un año posterior a 1582: 1500\n",
            "Año inválido.\n"
          ]
        }
      ]
    },
    {
      "cell_type": "code",
      "source": [
        "print(\"🍕 Bienvenido a Pizzería Python 🍕\")\n",
        "print(\"Tamaños disponibles: S (Pequeña), M (Mediana), L (Grande)\")\n",
        "\n",
        "# Solicitar tamaño de pizza\n",
        "tamaño = input(\"Seleccione el tamaño de la pizza (S, M, L): \").upper()\n",
        "\n",
        "# Definir precios base por tamaño\n",
        "precio_base = 15 if tamaño == \"S\" else 20 if tamaño == \"M\" else 25 if tamaño == \"L\" else 0\n",
        "\n",
        "# Verificar si el tamaño es válido\n",
        "if precio_base == 0:\n",
        "    print(\"Tamaño no válido. Por favor ingrese S, M o L.\")\n",
        "else:\n",
        "    # Agregar peperoni\n",
        "    agregar_peperoni = input(\"¿Desea agregar peperoni? (S/N): \").upper()\n",
        "    precio_peperoni = 2 if tamaño == \"S\" else 3\n",
        "    precio_base += precio_peperoni if agregar_peperoni == \"S\" else 0\n",
        "\n",
        "    # Agregar queso extra\n",
        "    extra_queso = input(\"¿Desea agregar queso extra? (S/N): \").upper()\n",
        "    precio_base += 1 if extra_queso == \"S\" else 0\n",
        "\n",
        "    # Mostrar precio final\n",
        "    print(f\"\\n🧾 Precio total a pagar: ${precio_base}\")"
      ],
      "metadata": {
        "colab": {
          "base_uri": "https://localhost:8080/"
        },
        "id": "7eorlZd1KVDx",
        "outputId": "11e2eeec-966f-49ac-cc33-126005dbd5bd"
      },
      "execution_count": null,
      "outputs": [
        {
          "output_type": "stream",
          "name": "stdout",
          "text": [
            "🍕 Bienvenido a Pizzería Python 🍕\n",
            "Tamaños disponibles: S (Pequeña), M (Mediana), L (Grande)\n",
            "Seleccione el tamaño de la pizza (S, M, L): s\n",
            "¿Desea agregar peperoni? (S/N): s\n",
            "¿Desea agregar queso extra? (S/N): n\n",
            "\n",
            "🧾 Precio total a pagar: $17\n"
          ]
        }
      ]
    }
  ]
}