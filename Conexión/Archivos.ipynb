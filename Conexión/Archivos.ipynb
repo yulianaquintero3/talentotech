{
  "nbformat": 4,
  "nbformat_minor": 0,
  "metadata": {
    "colab": {
      "provenance": []
    },
    "kernelspec": {
      "name": "python3",
      "display_name": "Python 3"
    },
    "language_info": {
      "name": "python"
    }
  },
  "cells": [
    {
      "cell_type": "code",
      "execution_count": null,
      "metadata": {
        "id": "-dqZJkq9lsmN",
        "colab": {
          "base_uri": "https://localhost:8080/"
        },
        "outputId": "7510b16f-9593-43dc-abb9-1b1f1e292da1"
      },
      "outputs": [
        {
          "output_type": "stream",
          "name": "stdout",
          "text": [
            "Ejercicio en clase Lady Yuliana Quintero\n",
            "Ejercicio en clase Lady Yuliana Quintero\n",
            "Ejercicio en clase Lady Yuliana Quintero\n",
            "Ejercicio en clase Lady Yuliana Quintero\n",
            "8\n",
            "8\n",
            "8\n"
          ]
        }
      ],
      "source": [
        "#FORMA 1:\n",
        "with open('./rostros.txt', 'r') as File:\n",
        "  f = File.read()\n",
        "print(f)"
      ]
    },
    {
      "cell_type": "code",
      "source": [
        "#FORMA 2:\n",
        "f=open(\"rostros.txt\")\n",
        "contenido=f.read()\n",
        "f.close()\n",
        "print(contenido)"
      ],
      "metadata": {
        "colab": {
          "base_uri": "https://localhost:8080/"
        },
        "id": "iOvpn7YkoJVN",
        "outputId": "382d2143-aca6-499e-8229-7ead68a78cff"
      },
      "execution_count": null,
      "outputs": [
        {
          "output_type": "stream",
          "name": "stdout",
          "text": [
            "Ejercicio en clase Lady Yuliana Quintero\n",
            "Ejercicio en clase Lady Yuliana Quintero\n",
            "Ejercicio en clase Lady Yuliana Quintero\n",
            "Ejercicio en clase Lady Yuliana Quintero\n",
            "8\n",
            "8\n",
            "8\n"
          ]
        }
      ]
    },
    {
      "cell_type": "code",
      "source": [
        "# Para poder cargar archivos desde Google Drive:\n",
        "#FORMA 1:\n",
        "\n",
        "archivo_agregar = open('rostro.txt','a') # lo crea si no exite\n",
        "lista_palabras=['Lady0', 'Yuliana1', 'Quintero2', 'Vanegas3']\n",
        "for fila in lista_palabras:\n",
        "  archivo_agregar.write(fila+'\\n')\n",
        "archivo_agregar.close()\n",
        "\n",
        "f = open('rostro.txt', 'r')\n",
        "for linea in f:\n",
        "  print(linea)\n",
        "f.close()"
      ],
      "metadata": {
        "colab": {
          "base_uri": "https://localhost:8080/"
        },
        "id": "l0MSz3pXoZSE",
        "outputId": "9b6af68e-d053-41e3-f8d8-0a29aa1ad6a8"
      },
      "execution_count": null,
      "outputs": [
        {
          "output_type": "stream",
          "name": "stdout",
          "text": [
            "Lady0\n",
            "\n",
            "Yuliana1\n",
            "\n",
            "Quintero2\n",
            "\n",
            "Vanegas3\n",
            "\n"
          ]
        }
      ]
    },
    {
      "cell_type": "code",
      "source": [
        "# Para poder cargar archivos desde Google Drive:\n",
        "#FORMA 2:\n",
        "#montando la unidad personal\n",
        "from google.colab import drive\n",
        "drive.mount('/content/drive', force_remount=True)\n",
        "\n",
        "f = open('/content/drive/MyDrive/Colab_Notebooks/rostros.txt', 'r')\n",
        "for linea in f:\n",
        "  print(linea)\n",
        "f.close()\n",
        "\n",
        "archivo_agregar = open('/content/drive/MyDrive/Colab_Notebooks/rostros.txt','a')\n",
        "lista_palabras=['Andres0', 'Felipe1', 'Escallón2', 'Portilla3']\n",
        "for fila in lista_palabras:\n",
        "  archivo_agregar.write(fila+'\\n')\n",
        "archivo_agregar.close()\n",
        "\n",
        "f = open('/content/drive/MyDrive/Colab_Notebooks/rostros.txt', 'r')\n",
        "for linea in f:\n",
        "  print(linea)\n",
        "f.close()\n",
        "\n"
      ],
      "metadata": {
        "colab": {
          "base_uri": "https://localhost:8080/"
        },
        "id": "-CjM3olxokeL",
        "outputId": "50ecb417-7241-44c7-e88e-02e2eb451f82"
      },
      "execution_count": null,
      "outputs": [
        {
          "output_type": "stream",
          "name": "stdout",
          "text": [
            "Mounted at /content/drive\n",
            "Ejercicio en clase Lady Yuliana Quintero\n",
            "\n",
            "Ejercicio en clase Lady Yuliana Quintero\n",
            "\n",
            "Ejercicio en clase Lady Yuliana Quintero\n",
            "\n",
            "Ejercicio en clase Lady Yuliana Quintero\n",
            "\n",
            "8\n",
            "\n",
            "8\n",
            "\n",
            "8\n",
            "Ejercicio en clase Lady Yuliana Quintero\n",
            "\n",
            "Ejercicio en clase Lady Yuliana Quintero\n",
            "\n",
            "Ejercicio en clase Lady Yuliana Quintero\n",
            "\n",
            "Ejercicio en clase Lady Yuliana Quintero\n",
            "\n",
            "8\n",
            "\n",
            "8\n",
            "\n",
            "8Andres0\n",
            "\n",
            "Felipe1\n",
            "\n",
            "Escallón2\n",
            "\n",
            "Portilla3\n",
            "\n"
          ]
        }
      ]
    },
    {
      "cell_type": "code",
      "source": [
        "#FORMA 3:\n",
        "with open(\"ejemplo.txt\", \"w\") as File:\n",
        "  f = File.write(\"Este es un ejemplo de creación de un archivo de texto mensaje adicional\"+'\\n'+\"salto de linea\")\n",
        "\n",
        "with open('ejemplo.txt', 'r') as File:# función que abre el archivo y lo cierra automáticamente (está implícito la función close())\n",
        "  f = File.read()\n",
        "print(f)# imprimo el archivo línea a línea (sin usar el ciclo for)\n"
      ],
      "metadata": {
        "colab": {
          "base_uri": "https://localhost:8080/"
        },
        "id": "aoARcf7Kp7Sf",
        "outputId": "faeb3201-ac6a-4846-bb03-9f99fe2260fd"
      },
      "execution_count": null,
      "outputs": [
        {
          "output_type": "stream",
          "name": "stdout",
          "text": [
            "Este es un ejemplo de creación de un archivo de texto mensaje adicional\n",
            "salto de linea\n"
          ]
        }
      ]
    }
  ]
}